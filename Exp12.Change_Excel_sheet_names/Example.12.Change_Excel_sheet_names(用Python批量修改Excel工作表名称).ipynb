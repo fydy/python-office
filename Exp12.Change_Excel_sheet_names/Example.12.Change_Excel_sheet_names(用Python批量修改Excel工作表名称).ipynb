{
 "cells": [
  {
   "cell_type": "markdown",
   "metadata": {},
   "source": [
    "# 实例12：用Python批量修改Excel工作表名称"
   ]
  },
  {
   "cell_type": "markdown",
   "metadata": {},
   "source": [
    "我们在实例9里面批量生成了95张每日出货清单，每日的清单的工作表名是按日期命名的，例如“3-1”。不知是何原因，老板看后居然要求全部改为类似于“3.1”这样。是不是感觉脑中“嗡”地一下，顿时濒临崩溃。怎么办？只得默默在心里狠狠“问候”老板若干遍，然后继续干啊。一个一个地手动改，实在是要命。但有了Python，小菜一碟，上菜啦..."
   ]
  },
  {
   "cell_type": "code",
   "execution_count": 1,
   "metadata": {
    "scrolled": true
   },
   "outputs": [
    {
     "name": "stderr",
     "output_type": "stream",
     "text": [
      "d:\\python\\lib\\site-packages\\ipykernel_launcher.py:3: DeprecationWarning: Call to deprecated function get_sheet_names (Use wb.sheetnames).\n",
      "  This is separate from the ipykernel package so we can avoid doing imports until\n"
     ]
    }
   ],
   "source": [
    "from openpyxl import load_workbook\n",
    "wb = load_workbook(\"data\\出货单.xlsx\") #打开工作簿\n",
    "sheet_names=wb.get_sheet_names() #获得工作簿的所有工作表名\n",
    "for sheet_name in sheet_names: #遍历每个工作表，并在每个工作表的A1单元格插入图片\n",
    "    ws=wb[sheet_name]\n",
    "    ws.title=sheet_name.replace(\"-\",\".\")\n",
    "wb.save('data\\出货单1.xlsx')"
   ]
  },
  {
   "cell_type": "markdown",
   "metadata": {},
   "source": [
    "我们通过遍历“出货单.xlsx”文件中的所有工作表，然后每个工作表都在A1单元格插入我们设定好的图片，最后保存。待程序执行完成，打开保存的文件“出货单—new.xlsx”，报出如下错误：\n",
    "![](images\\error1.png)\n",
    "我们选择“是”，继续下一步，再报出错误：\n",
    "![](images\\error2.png)\n",
    "点击“关闭”，继续下一步。我们发现除了最后一个工作表“12-23”，其他工作表图片全部无法正常显示，都带有一个红色的“X”，显示为“无法显示该图片”。\n",
    "![](images\\last_page.png)"
   ]
  },
  {
   "cell_type": "markdown",
   "metadata": {},
   "source": [
    "我花了很多时间来研究到底怎么回事，然后也做了很多测试。最后发现，每插入一张图片就需要保存一下，才可保证图片正常显示。因此将程序稍作修改如下。即每给一个工作表插入图片后，都保存一次，而不是给所有工作表插完图片后，最后才来保存。相当于我们不停地打开“出货单.xlsx”，然后在其中的各个工作表依次插入图片，每操作一次，保存一次。时间会比只保存一次更长，但毕竟比手动插入图片快很多了。最终，每张工作表都插入图片成功，呲牙..."
   ]
  },
  {
   "cell_type": "code",
   "execution_count": 2,
   "metadata": {},
   "outputs": [
    {
     "name": "stderr",
     "output_type": "stream",
     "text": [
      "d:\\python\\lib\\site-packages\\ipykernel_launcher.py:4: DeprecationWarning: Call to deprecated function get_sheet_names (Use wb.sheetnames).\n",
      "  after removing the cwd from sys.path.\n"
     ]
    }
   ],
   "source": [
    "from openpyxl.drawing.image import Image\n",
    "img = Image('images\\company.png')\n",
    "wb = load_workbook(\"data\\出货单.xlsx\")\n",
    "sheet_names=wb.get_sheet_names()\n",
    "for sheet_name in sheet_names:\n",
    "    wb = load_workbook(\"data\\出货单.xlsx\")\n",
    "    ws=wb[sheet_name]\n",
    "    ws.add_image(img, 'A1')\n",
    "    wb.save('data\\出货单.xlsx')\n"
   ]
  }
 ],
 "metadata": {
  "kernelspec": {
   "display_name": "Python 3",
   "language": "python",
   "name": "python3"
  },
  "language_info": {
   "codemirror_mode": {
    "name": "ipython",
    "version": 3
   },
   "file_extension": ".py",
   "mimetype": "text/x-python",
   "name": "python",
   "nbconvert_exporter": "python",
   "pygments_lexer": "ipython3",
   "version": "3.6.5"
  }
 },
 "nbformat": 4,
 "nbformat_minor": 2
}
